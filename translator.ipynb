{
 "cells": [
  {
   "cell_type": "markdown",
   "id": "a369c911-56b1-4f86-bb26-604a66684cec",
   "metadata": {},
   "source": [
    "# Traducteur anglais / français\n",
    "\n",
    "Dans ce Notebook, nous verrons comment traduire un texte du français vers l'anglais et inversement grâce au modèle pré-entrainé `Word2Vec`.\n",
    "\n",
    "## Présentation de Word2Vec\n",
    "\n",
    "Word2Vec est une technique de traitement du langage naturel qui utilise un réseau neuronal pour apprendre les représentations vectorielles des mots dans un texte. Ces représentations peuvent ensuite être utilisées pour identifier les mots qui sont similaires les uns aux autres, pour effectuer des opérations arithmétiques sur les mots (par exemple, \"roi\" - \"homme\" + \"femme\" pourrait donner \"reine\"), et pour d'autres tâches liées au langage.\n",
    "\n",
    "Word2Vec ne comprend pas le sens des mots en soi, il est seulement capable de capturer des relations sémantiques et syntaxiques entre les mots."
   ]
  },
  {
   "cell_type": "markdown",
   "id": "99a5b1c7",
   "metadata": {},
   "source": [
    "## Pré-requis\n",
    "\n",
    "Avant d'utiliser ce notebook, il faut télécharger les jeux de données suivant :\n",
    "- [Dataset : Traduction Anglais-Français](https://www.kaggle.com/code/jasoncallaway/fra-txt-details/input)\n",
    "- [French pretained embedding](http://wikipedia2vec.s3.amazonaws.com/models/fr/2018-04-20/frwiki_20180420_100d.txt.bz2)\n",
    "- [English pretrained embedding](http://wikipedia2vec.s3.amazonaws.com/models/en/2018-04-20/enwiki_20180420_100d.txt.bz2)"
   ]
  },
  {
   "cell_type": "markdown",
   "id": "9e80f1a5-e66c-444c-bd2a-3c9c36d7cd9d",
   "metadata": {},
   "source": [
    "### Importation des données"
   ]
  },
  {
   "cell_type": "code",
   "execution_count": 1,
   "id": "fa0a9e97-e3d5-47df-8cc9-fce75268c222",
   "metadata": {},
   "outputs": [
    {
     "name": "stdout",
     "output_type": "stream",
     "text": [
      "<class 'pandas.core.frame.DataFrame'>\n",
      "RangeIndex: 177210 entries, 0 to 177209\n",
      "Data columns (total 2 columns):\n",
      " #   Column  Non-Null Count   Dtype \n",
      "---  ------  --------------   ----- \n",
      " 0   En      177210 non-null  object\n",
      " 1   Fr      177210 non-null  object\n",
      "dtypes: object(2)\n",
      "memory usage: 2.7+ MB\n"
     ]
    }
   ],
   "source": [
    "# import data\n",
    "import pandas\n",
    "dataset = pandas.read_csv(\"fra.txt\", sep=\"\\t\", header=None)\n",
    "dataset = dataset.drop(2, axis=1) # remove the last column\n",
    "dataset = dataset.set_axis(['En', 'Fr'], axis=1) # rename columns\n",
    "dataset.info()"
   ]
  },
  {
   "cell_type": "code",
   "execution_count": 2,
   "id": "02dbbf34-38ef-4d43-a80c-a2de7b14be6c",
   "metadata": {},
   "outputs": [
    {
     "data": {
      "text/html": [
       "<div>\n",
       "<style scoped>\n",
       "    .dataframe tbody tr th:only-of-type {\n",
       "        vertical-align: middle;\n",
       "    }\n",
       "\n",
       "    .dataframe tbody tr th {\n",
       "        vertical-align: top;\n",
       "    }\n",
       "\n",
       "    .dataframe thead th {\n",
       "        text-align: right;\n",
       "    }\n",
       "</style>\n",
       "<table border=\"1\" class=\"dataframe\">\n",
       "  <thead>\n",
       "    <tr style=\"text-align: right;\">\n",
       "      <th></th>\n",
       "      <th>En</th>\n",
       "      <th>Fr</th>\n",
       "    </tr>\n",
       "  </thead>\n",
       "  <tbody>\n",
       "    <tr>\n",
       "      <th>0</th>\n",
       "      <td>Go.</td>\n",
       "      <td>Va !</td>\n",
       "    </tr>\n",
       "    <tr>\n",
       "      <th>1</th>\n",
       "      <td>Hi.</td>\n",
       "      <td>Salut !</td>\n",
       "    </tr>\n",
       "    <tr>\n",
       "      <th>2</th>\n",
       "      <td>Hi.</td>\n",
       "      <td>Salut.</td>\n",
       "    </tr>\n",
       "    <tr>\n",
       "      <th>3</th>\n",
       "      <td>Run!</td>\n",
       "      <td>Cours !</td>\n",
       "    </tr>\n",
       "    <tr>\n",
       "      <th>4</th>\n",
       "      <td>Run!</td>\n",
       "      <td>Courez !</td>\n",
       "    </tr>\n",
       "  </tbody>\n",
       "</table>\n",
       "</div>"
      ],
      "text/plain": [
       "     En        Fr\n",
       "0   Go.      Va !\n",
       "1   Hi.   Salut !\n",
       "2   Hi.    Salut.\n",
       "3  Run!   Cours !\n",
       "4  Run!  Courez !"
      ]
     },
     "execution_count": 2,
     "metadata": {},
     "output_type": "execute_result"
    }
   ],
   "source": [
    "# affichage des premières lignes\n",
    "dataset.head()"
   ]
  },
  {
   "cell_type": "markdown",
   "id": "d3067ad3-ec49-4d53-a7e1-53cda4126fbf",
   "metadata": {},
   "source": [
    "### Prétraitement\n",
    "\n",
    "Nous allons commencer par faire le nettoyage du texte. Cette étape permet de \"normaliser\" le dataset, afin d'enlever la ponctuation, les mots qui apportent peu d'informations à la compréhension globale de la phrase et la lemmatisation des mots, qui permet de prendre la \"racine\" du mot. Par exemple, la lemmatisation va enlever les -s du pluriel ou va prendre la racine du mot pour un verbe conjugué. "
   ]
  },
  {
   "cell_type": "code",
   "execution_count": 3,
   "id": "d2f1286d",
   "metadata": {},
   "outputs": [
    {
     "data": {
      "text/plain": [
       "(['Go.', 'Hi.', 'Hi.', 'Run!', 'Run!'],\n",
       " ['Va !', 'Salut !', 'Salut.', 'Cours\\u202f!', 'Courez\\u202f!'])"
      ]
     },
     "execution_count": 3,
     "metadata": {},
     "output_type": "execute_result"
    }
   ],
   "source": [
    "# récupérer les données sous forme de liste\n",
    "en_dataset = dataset['En'].tolist()\n",
    "fr_dataset = dataset['Fr'].tolist()\n",
    "\n",
    "en_dataset[:5], fr_dataset[:5]"
   ]
  },
  {
   "cell_type": "markdown",
   "id": "1366355e",
   "metadata": {},
   "source": [
    "Les stopwords sont des listes de mots pour une langue données que l'on retrouve souvent et qui apportent peu d'informations, comme certains mots de liaisons ou des pronoms personnels."
   ]
  },
  {
   "cell_type": "code",
   "execution_count": 4,
   "id": "fa84f7c2-9c5f-484d-a876-e2af3eeb1d7c",
   "metadata": {},
   "outputs": [],
   "source": [
    "import re\n",
    "import nltk\n",
    "from nltk.corpus import stopwords\n",
    "\n",
    "english_stop_words = set(stopwords.words('english'))\n",
    "french_stop_words = set(stopwords.words('french'))"
   ]
  },
  {
   "cell_type": "code",
   "execution_count": 5,
   "id": "8536ab59-ce87-4d0a-8fc2-575af621a222",
   "metadata": {},
   "outputs": [],
   "source": [
    "def clean_tweet(text, flg_stemm=False, flg_lemm=True, lst_stopwords=None):\n",
    "    \"\"\"\n",
    "    Cette fonction va nettoyer le texte : \n",
    "    + mettre en minuscule, \n",
    "    + supprimer un certain nombre d'expression,\n",
    "    + choix lemmatisation / stemming,\n",
    "    + choix d'une liste de stopwords\n",
    "    \"\"\"\n",
    "\n",
    "    text = text.lower()\n",
    "    text = text.replace('\\n', ' ').replace('\\r', '')\n",
    "    text = ' '.join(text.split())\n",
    "    text = re.sub(r\"[A-Za-z\\.]*[0-9]+[A-Za-z%°\\.]*\", \"\", text)\n",
    "    text = re.sub(r\"(\\s\\-\\s|-$)\", \"\", text)\n",
    "    text = re.sub(r\"[,\\!\\?\\%\\(\\)\\/\\\"]\", \"\", text)\n",
    "    text = re.sub(r\"\\&\\S*\\s\", \"\", text)\n",
    "    text = re.sub(r\"\\&\", \"\", text)\n",
    "    text = re.sub(r\"\\+\", \"\", text)\n",
    "    text = re.sub(r\"\\#\", \"\", text)\n",
    "    text = re.sub(r\"\\$\", \"\", text)\n",
    "    text = re.sub(r\"\\£\", \"\", text)\n",
    "    text = re.sub(r\"\\%\", \"\", text)\n",
    "    text = re.sub(r\"\\:\", \"\", text)\n",
    "    text = re.sub(r\"\\@\", \"\", text)\n",
    "    text = re.sub(r\"\\-\", \"\", text)\n",
    "    text = re.sub(r\"\\.\", \"\", text)\n",
    "    text = re.sub(r\"\\»\", \"\", text)\n",
    "    text = re.sub(r\"\\«\", \"\", text)\n",
    "    \n",
    "    ## transforme en tokens\n",
    "    lst_text = text.split()\n",
    "    ## remove Stopwords\n",
    "    if lst_stopwords is not None:\n",
    "        lst_text = [word for word in lst_text if word not in \n",
    "                    \n",
    "                    lst_stopwords]\n",
    "                \n",
    "    ## Stemming (supprime -ing, -ly, ...)\n",
    "    if flg_stemm == True:\n",
    "        ps = nltk.stem.porter.PorterStemmer()\n",
    "        lst_text = [ps.stem(word) for word in lst_text]\n",
    "                \n",
    "    ## Lemmatisation (retourne la racine du mot)\n",
    "    if flg_lemm == True:\n",
    "        lem = nltk.stem.wordnet.WordNetLemmatizer()\n",
    "        lst_text = [lem.lemmatize(word) for word in lst_text]\n",
    "            \n",
    "    ## liste => string\n",
    "    text = \" \".join(lst_text)\n",
    "    return text"
   ]
  },
  {
   "cell_type": "code",
   "execution_count": 6,
   "id": "779ecb1c-9362-411f-b386-1cc58e1c3497",
   "metadata": {},
   "outputs": [
    {
     "data": {
      "text/plain": [
       "(['go', 'hi', 'hi', 'run', 'run'], ['va', 'salut', 'salut', 'cours', 'courez'])"
      ]
     },
     "execution_count": 6,
     "metadata": {},
     "output_type": "execute_result"
    }
   ],
   "source": [
    "en_clean = [clean_tweet(text, lst_stopwords=english_stop_words) for text in en_dataset]\n",
    "fr_clean = [clean_tweet(text, lst_stopwords=french_stop_words) for text in fr_dataset]\n",
    "\n",
    "en_clean[:5], fr_clean[:5]"
   ]
  },
  {
   "cell_type": "markdown",
   "id": "26793436",
   "metadata": {},
   "source": [
    "Ici, nous allons importer des modèmes préentrainés de Word2Vec, qui va permettre de transformer les mots en vecteurs."
   ]
  },
  {
   "cell_type": "code",
   "execution_count": 7,
   "id": "83a43ed0-9619-4ace-a0ad-6d2f5fdc538f",
   "metadata": {},
   "outputs": [],
   "source": [
    "from gensim.models import keyedvectors\n",
    "en_trained = keyedvectors.load_word2vec_format(\"enwiki_20180420_100d.txt.bz2\",binary=False,unicode_errors='ignore')\n",
    "fr_trained = keyedvectors.load_word2vec_format(\"frwiki_20180420_100d.txt.bz2\",binary=False,unicode_errors='ignore')"
   ]
  },
  {
   "cell_type": "code",
   "execution_count": 8,
   "id": "180be103",
   "metadata": {},
   "outputs": [],
   "source": [
    "# transformer les données en vecteurs\n",
    "import numpy as np\n",
    "\n",
    "def my_doc_2_vec(doc, trained):\n",
    "    #dimension de représentation\n",
    "    p = trained.vectors.shape[1]\n",
    "    #initialiser le vecteur\n",
    "    vec = np.zeros(p)\n",
    "    #nombre de tokens trouvés\n",
    "    nb = 0\n",
    "    #traitement de chaque token du document\n",
    "    for tk in doc:\n",
    "        #ne traiter que les tokens reconnus\n",
    "        try:\n",
    "            values = trained[tk]\n",
    "            vec = vec + values\n",
    "            nb = nb + 1.0\n",
    "        except:\n",
    "            pass\n",
    "    #faire la moyenne des valeurs\n",
    "    #uniquement si on a trové des tokens reconnus bien sûr\n",
    "    if (nb > 0.0):\n",
    "        vec = vec/nb\n",
    "    #renvoyer le vecteur\n",
    "    #si aucun token trouvé, on a un vecteur de valeurs nulles\n",
    "    return vec"
   ]
  },
  {
   "cell_type": "code",
   "execution_count": 10,
   "id": "b1f85b0c",
   "metadata": {},
   "outputs": [
    {
     "data": {
      "text/plain": [
       "((177210, 100), (177210, 100))"
      ]
     },
     "execution_count": 10,
     "metadata": {},
     "output_type": "execute_result"
    }
   ],
   "source": [
    "en_docs_vec = list()\n",
    "fr_docs_vec = list()\n",
    "\n",
    "for doc in en_clean:\n",
    "    en_docs_vec.append(my_doc_2_vec(doc.split(), en_trained))\n",
    "    \n",
    "for doc in fr_clean:\n",
    "    fr_docs_vec.append(my_doc_2_vec(doc.split(), fr_trained))\n",
    "    \n",
    "# transformer en matrice\n",
    "en_docs_vec = np.array(en_docs_vec)\n",
    "fr_docs_vec = np.array(fr_docs_vec)\n",
    "\n",
    "en_docs_vec.shape, fr_docs_vec.shape"
   ]
  },
  {
   "cell_type": "markdown",
   "id": "04a4f1a3-e7e2-45c0-85df-e34555ead52c",
   "metadata": {},
   "source": [
    "### Prédiction et évaluation en test"
   ]
  },
  {
   "cell_type": "markdown",
   "id": "d87a822f",
   "metadata": {},
   "source": [
    "On commence par regarder si un GPU est disponible."
   ]
  },
  {
   "cell_type": "code",
   "execution_count": 11,
   "id": "140f04cf-25b7-486c-9802-537c6f726b96",
   "metadata": {
    "scrolled": true
   },
   "outputs": [
    {
     "name": "stderr",
     "output_type": "stream",
     "text": [
      "2024-03-19 15:10:05.160122: I tensorflow/core/util/port.cc:113] oneDNN custom operations are on. You may see slightly different numerical results due to floating-point round-off errors from different computation orders. To turn them off, set the environment variable `TF_ENABLE_ONEDNN_OPTS=0`.\n",
      "2024-03-19 15:10:05.399135: E external/local_xla/xla/stream_executor/cuda/cuda_dnn.cc:9261] Unable to register cuDNN factory: Attempting to register factory for plugin cuDNN when one has already been registered\n",
      "2024-03-19 15:10:05.399160: E external/local_xla/xla/stream_executor/cuda/cuda_fft.cc:607] Unable to register cuFFT factory: Attempting to register factory for plugin cuFFT when one has already been registered\n",
      "2024-03-19 15:10:05.435679: E external/local_xla/xla/stream_executor/cuda/cuda_blas.cc:1515] Unable to register cuBLAS factory: Attempting to register factory for plugin cuBLAS when one has already been registered\n",
      "2024-03-19 15:10:05.508802: I tensorflow/core/platform/cpu_feature_guard.cc:182] This TensorFlow binary is optimized to use available CPU instructions in performance-critical operations.\n",
      "To enable the following instructions: AVX2 AVX512F AVX512_VNNI AVX512_BF16 FMA, in other operations, rebuild TensorFlow with the appropriate compiler flags.\n",
      "2024-03-19 15:10:06.215576: W tensorflow/compiler/tf2tensorrt/utils/py_utils.cc:38] TF-TRT Warning: Could not find TensorRT\n"
     ]
    },
    {
     "name": "stdout",
     "output_type": "stream",
     "text": [
      "1 Physical devices 1 Logical GPUs\n"
     ]
    },
    {
     "name": "stderr",
     "output_type": "stream",
     "text": [
      "2024-03-19 15:10:06.688185: I external/local_xla/xla/stream_executor/cuda/cuda_executor.cc:901] successful NUMA node read from SysFS had negative value (-1), but there must be at least one NUMA node, so returning NUMA node zero. See more at https://github.com/torvalds/linux/blob/v6.0/Documentation/ABI/testing/sysfs-bus-pci#L344-L355\n",
      "2024-03-19 15:10:06.811110: I external/local_xla/xla/stream_executor/cuda/cuda_executor.cc:901] successful NUMA node read from SysFS had negative value (-1), but there must be at least one NUMA node, so returning NUMA node zero. See more at https://github.com/torvalds/linux/blob/v6.0/Documentation/ABI/testing/sysfs-bus-pci#L344-L355\n",
      "2024-03-19 15:10:06.811273: I external/local_xla/xla/stream_executor/cuda/cuda_executor.cc:901] successful NUMA node read from SysFS had negative value (-1), but there must be at least one NUMA node, so returning NUMA node zero. See more at https://github.com/torvalds/linux/blob/v6.0/Documentation/ABI/testing/sysfs-bus-pci#L344-L355\n",
      "2024-03-19 15:10:06.812667: I external/local_xla/xla/stream_executor/cuda/cuda_executor.cc:901] successful NUMA node read from SysFS had negative value (-1), but there must be at least one NUMA node, so returning NUMA node zero. See more at https://github.com/torvalds/linux/blob/v6.0/Documentation/ABI/testing/sysfs-bus-pci#L344-L355\n",
      "2024-03-19 15:10:06.812779: I external/local_xla/xla/stream_executor/cuda/cuda_executor.cc:901] successful NUMA node read from SysFS had negative value (-1), but there must be at least one NUMA node, so returning NUMA node zero. See more at https://github.com/torvalds/linux/blob/v6.0/Documentation/ABI/testing/sysfs-bus-pci#L344-L355\n",
      "2024-03-19 15:10:06.812865: I external/local_xla/xla/stream_executor/cuda/cuda_executor.cc:901] successful NUMA node read from SysFS had negative value (-1), but there must be at least one NUMA node, so returning NUMA node zero. See more at https://github.com/torvalds/linux/blob/v6.0/Documentation/ABI/testing/sysfs-bus-pci#L344-L355\n",
      "2024-03-19 15:10:06.870473: I external/local_xla/xla/stream_executor/cuda/cuda_executor.cc:901] successful NUMA node read from SysFS had negative value (-1), but there must be at least one NUMA node, so returning NUMA node zero. See more at https://github.com/torvalds/linux/blob/v6.0/Documentation/ABI/testing/sysfs-bus-pci#L344-L355\n",
      "2024-03-19 15:10:06.870594: I external/local_xla/xla/stream_executor/cuda/cuda_executor.cc:901] successful NUMA node read from SysFS had negative value (-1), but there must be at least one NUMA node, so returning NUMA node zero. See more at https://github.com/torvalds/linux/blob/v6.0/Documentation/ABI/testing/sysfs-bus-pci#L344-L355\n",
      "2024-03-19 15:10:06.870689: I external/local_xla/xla/stream_executor/cuda/cuda_executor.cc:901] successful NUMA node read from SysFS had negative value (-1), but there must be at least one NUMA node, so returning NUMA node zero. See more at https://github.com/torvalds/linux/blob/v6.0/Documentation/ABI/testing/sysfs-bus-pci#L344-L355\n",
      "2024-03-19 15:10:06.870767: I tensorflow/core/common_runtime/gpu/gpu_device.cc:1929] Created device /job:localhost/replica:0/task:0/device:GPU:0 with 14361 MB memory:  -> device: 0, name: NVIDIA GeForce RTX 4060 Ti, pci bus id: 0000:01:00.0, compute capability: 8.9\n"
     ]
    }
   ],
   "source": [
    "import tensorflow as tf \n",
    "\n",
    "gpus = tf.config.list_physical_devices('GPU')\n",
    "\n",
    "if gpus:\n",
    "    try:\n",
    "        #Currenlty memory growth needs to be the same across GPUs\n",
    "        for gpu in gpus :\n",
    "            tf.config.experimental.set_memory_growth(gpu, True)\n",
    "        logical_gpus = tf.config.experimental.list_logical_devices('GPU')\n",
    "        print(len(gpus), \"Physical devices\", len(logical_gpus), \"Logical GPUs\")\n",
    "    except RuntimeError as e:\n",
    "        # Memory growth must be set before GPUs have been initialized\n",
    "        print(e)"
   ]
  },
  {
   "cell_type": "markdown",
   "id": "6eaa91b9-36b8-48c4-b03e-7a36f9dae748",
   "metadata": {},
   "source": [
    "Nous allons maintenant séparé les données en train, val et test. Cela va permettre d'entrainer le modèle sur des données d'entrainements, et utiliser des données de tests pour vérifier si le modèle fonctionne."
   ]
  },
  {
   "cell_type": "code",
   "execution_count": 12,
   "id": "1ffbfd1b",
   "metadata": {},
   "outputs": [
    {
     "name": "stdout",
     "output_type": "stream",
     "text": [
      "========== Données d'entraînement ========== \n",
      " [[-0.2906      0.0067      0.0588     ... -0.74779999  0.37850001\n",
      "  -0.3511    ]\n",
      " [-0.3398      0.007675    0.02454999 ... -0.35827501  0.067825\n",
      "  -0.260175  ]\n",
      " [-0.08856667 -0.19393334  0.25673333 ... -0.27260001  0.15606667\n",
      "  -0.27996666]\n",
      " ...\n",
      " [-0.2291     -0.1399     -0.1893     ... -0.28650001  0.0126\n",
      "  -0.35870001]\n",
      " [-0.03293334 -0.09093333  0.19826667 ... -0.42256666  0.225\n",
      "  -0.23193333]\n",
      " [-0.30660001 -0.25176667  0.2143     ... -0.78603335  0.16503334\n",
      "  -0.15873333]] \n",
      " ========== Données de validation ========== \n",
      " [[-0.03316667  0.09573333  0.27126667 ... -0.35866666 -0.1393\n",
      "  -0.29043333]\n",
      " [-0.0864     -0.19525     0.26835    ... -0.76305    -0.0428\n",
      "   0.15085   ]\n",
      " [-0.154425   -0.1982      0.1426     ... -0.28205    -0.09257501\n",
      "  -0.57450001]\n",
      " ...\n",
      " [-0.13712    -0.0723     -0.0282     ... -0.65748     0.28998\n",
      "  -0.17202   ]\n",
      " [-0.33025     0.95025     0.01805    ... -0.0182      0.28180001\n",
      "  -0.50505   ]\n",
      " [-0.24464999 -0.108725    0.37515    ... -0.259325    0.170075\n",
      "  -0.24537499]] \n",
      " ========== Données de test ========== \n",
      " [[-0.00795     0.09625    -0.06555    ... -0.57530001  0.15035\n",
      "  -0.47980002]\n",
      " [-0.22348     0.29796     0.04208    ... -0.0721      0.31606\n",
      "  -0.36183999]\n",
      " [-0.23555     0.0801     -0.03875    ... -0.381       0.03334999\n",
      "  -0.38105   ]\n",
      " ...\n",
      " [-0.3448      0.139375   -0.04115    ... -0.311325    0.193925\n",
      "  -0.43815   ]\n",
      " [ 0.2649      0.2529     -0.23899999 ... -0.37959999  0.1057\n",
      "  -0.20819999]\n",
      " [-0.064875    0.0743      0.15735    ... -0.63540002  0.1398\n",
      "  -0.346575  ]]\n"
     ]
    }
   ],
   "source": [
    "from sklearn.model_selection import train_test_split\n",
    "\n",
    "x_train, x_test, y_train, y_test = train_test_split(\n",
    "    fr_docs_vec,\n",
    "    en_docs_vec,\n",
    "    test_size=0.8,\n",
    "    random_state=42\n",
    ")\n",
    "\n",
    "x_train, x_val, y_train, y_val = train_test_split(\n",
    "    x_train,\n",
    "    y_train,\n",
    "    train_size=0.8,\n",
    "    random_state=42\n",
    ")\n",
    "\n",
    "print(\"========== Données d'entraînement ========== \\n\", x_train,  \"\\n\",\n",
    "      \"========== Données de validation ========== \\n\", x_test,  \"\\n\",\n",
    "      \"========== Données de test ========== \\n\", x_val)"
   ]
  },
  {
   "cell_type": "markdown",
   "id": "b543b7a6",
   "metadata": {},
   "source": [
    "## Construisons le modèle"
   ]
  },
  {
   "cell_type": "code",
   "execution_count": 41,
   "id": "fc3eb10f",
   "metadata": {},
   "outputs": [],
   "source": [
    "from keras.models import Sequential\n",
    "from keras.layers import Dense, Flatten\n",
    "from keras.optimizers import Adam\n",
    "\n",
    "model = Sequential()\n",
    "model.add(Flatten(input_shape=(100,)))\n",
    "model.add(Dense(256, activation='relu'))\n",
    "model.add(Dense(100, activation='tanh'))\n",
    "\n",
    "adam = Adam(\n",
    "    learning_rate=0.001\n",
    ")\n",
    "\n",
    "# Compiler le modèle\n",
    "model.compile(optimizer=adam, loss='mean_squared_error', metrics=['acc'])"
   ]
  },
  {
   "cell_type": "code",
   "execution_count": 36,
   "id": "ee2e434b",
   "metadata": {},
   "outputs": [
    {
     "name": "stdout",
     "output_type": "stream",
     "text": [
      "Model: \"sequential_7\"\n",
      "_________________________________________________________________\n",
      " Layer (type)                Output Shape              Param #   \n",
      "=================================================================\n",
      " flatten_7 (Flatten)         (None, 100)               0         \n",
      "                                                                 \n",
      " dense_14 (Dense)            (None, 256)               25856     \n",
      "                                                                 \n",
      " dense_15 (Dense)            (None, 100)               25700     \n",
      "                                                                 \n",
      "=================================================================\n",
      "Total params: 51556 (201.39 KB)\n",
      "Trainable params: 51556 (201.39 KB)\n",
      "Non-trainable params: 0 (0.00 Byte)\n",
      "_________________________________________________________________\n"
     ]
    }
   ],
   "source": [
    "model.summary()"
   ]
  },
  {
   "cell_type": "code",
   "execution_count": 42,
   "id": "dc7082f6",
   "metadata": {},
   "outputs": [
    {
     "name": "stdout",
     "output_type": "stream",
     "text": [
      "Epoch 1/30\n"
     ]
    },
    {
     "name": "stdout",
     "output_type": "stream",
     "text": [
      "444/444 [==============================] - 1s 985us/step - loss: 0.0300 - acc: 0.4182 - val_loss: 0.0254 - val_acc: 0.4743\n",
      "Epoch 2/30\n",
      "444/444 [==============================] - 0s 884us/step - loss: 0.0251 - acc: 0.4670 - val_loss: 0.0244 - val_acc: 0.4854\n",
      "Epoch 3/30\n",
      "444/444 [==============================] - 0s 886us/step - loss: 0.0243 - acc: 0.4757 - val_loss: 0.0240 - val_acc: 0.4888\n",
      "Epoch 4/30\n",
      "444/444 [==============================] - 0s 880us/step - loss: 0.0238 - acc: 0.4803 - val_loss: 0.0238 - val_acc: 0.4932\n",
      "Epoch 5/30\n",
      "444/444 [==============================] - 0s 886us/step - loss: 0.0234 - acc: 0.4855 - val_loss: 0.0234 - val_acc: 0.5013\n",
      "Epoch 6/30\n",
      "444/444 [==============================] - 0s 882us/step - loss: 0.0231 - acc: 0.4896 - val_loss: 0.0233 - val_acc: 0.5013\n",
      "Epoch 7/30\n",
      "444/444 [==============================] - 0s 889us/step - loss: 0.0228 - acc: 0.4911 - val_loss: 0.0230 - val_acc: 0.5022\n",
      "Epoch 8/30\n",
      "444/444 [==============================] - 0s 871us/step - loss: 0.0226 - acc: 0.4936 - val_loss: 0.0229 - val_acc: 0.5049\n",
      "Epoch 9/30\n",
      "444/444 [==============================] - 0s 886us/step - loss: 0.0225 - acc: 0.4960 - val_loss: 0.0230 - val_acc: 0.5049\n",
      "Epoch 10/30\n",
      "444/444 [==============================] - 0s 879us/step - loss: 0.0224 - acc: 0.4947 - val_loss: 0.0229 - val_acc: 0.4932\n",
      "Epoch 11/30\n",
      "444/444 [==============================] - 0s 882us/step - loss: 0.0222 - acc: 0.4971 - val_loss: 0.0227 - val_acc: 0.4975\n",
      "Epoch 12/30\n",
      "444/444 [==============================] - 0s 894us/step - loss: 0.0221 - acc: 0.4978 - val_loss: 0.0226 - val_acc: 0.5029\n",
      "Epoch 13/30\n",
      "444/444 [==============================] - 0s 872us/step - loss: 0.0220 - acc: 0.4999 - val_loss: 0.0226 - val_acc: 0.5112\n",
      "Epoch 14/30\n",
      "444/444 [==============================] - 0s 888us/step - loss: 0.0219 - acc: 0.5042 - val_loss: 0.0225 - val_acc: 0.5053\n",
      "Epoch 15/30\n",
      "444/444 [==============================] - 0s 879us/step - loss: 0.0219 - acc: 0.5009 - val_loss: 0.0225 - val_acc: 0.5056\n",
      "Epoch 16/30\n",
      "444/444 [==============================] - 0s 878us/step - loss: 0.0218 - acc: 0.5024 - val_loss: 0.0225 - val_acc: 0.5008\n",
      "Epoch 17/30\n",
      "444/444 [==============================] - 0s 876us/step - loss: 0.0217 - acc: 0.5039 - val_loss: 0.0225 - val_acc: 0.5020\n",
      "Epoch 18/30\n",
      "444/444 [==============================] - 0s 893us/step - loss: 0.0216 - acc: 0.5053 - val_loss: 0.0223 - val_acc: 0.5095\n",
      "Epoch 19/30\n",
      "444/444 [==============================] - 0s 890us/step - loss: 0.0216 - acc: 0.5049 - val_loss: 0.0225 - val_acc: 0.5099\n",
      "Epoch 20/30\n",
      "444/444 [==============================] - 0s 883us/step - loss: 0.0216 - acc: 0.5038 - val_loss: 0.0224 - val_acc: 0.5085\n",
      "Epoch 21/30\n",
      "444/444 [==============================] - 0s 882us/step - loss: 0.0215 - acc: 0.5056 - val_loss: 0.0224 - val_acc: 0.5091\n",
      "Epoch 22/30\n",
      "444/444 [==============================] - 0s 882us/step - loss: 0.0214 - acc: 0.5073 - val_loss: 0.0223 - val_acc: 0.5064\n",
      "Epoch 23/30\n",
      "444/444 [==============================] - 0s 877us/step - loss: 0.0214 - acc: 0.5064 - val_loss: 0.0230 - val_acc: 0.5068\n",
      "Epoch 24/30\n",
      "444/444 [==============================] - 0s 866us/step - loss: 0.0215 - acc: 0.5047 - val_loss: 0.0226 - val_acc: 0.4982\n",
      "Epoch 25/30\n",
      "444/444 [==============================] - 0s 885us/step - loss: 0.0214 - acc: 0.5062 - val_loss: 0.0223 - val_acc: 0.5115\n",
      "Epoch 26/30\n",
      "444/444 [==============================] - 0s 876us/step - loss: 0.0213 - acc: 0.5076 - val_loss: 0.0223 - val_acc: 0.5115\n",
      "Epoch 27/30\n",
      "444/444 [==============================] - 0s 891us/step - loss: 0.0213 - acc: 0.5077 - val_loss: 0.0225 - val_acc: 0.5095\n",
      "Epoch 28/30\n",
      "444/444 [==============================] - 0s 908us/step - loss: 0.0213 - acc: 0.5088 - val_loss: 0.0222 - val_acc: 0.5125\n",
      "Epoch 29/30\n",
      "444/444 [==============================] - 0s 865us/step - loss: 0.0212 - acc: 0.5089 - val_loss: 0.0222 - val_acc: 0.5050\n",
      "Epoch 30/30\n",
      "444/444 [==============================] - 0s 867us/step - loss: 0.0212 - acc: 0.5079 - val_loss: 0.0223 - val_acc: 0.5075\n"
     ]
    }
   ],
   "source": [
    "history = model.fit(x_train, y_train, epochs=30, batch_size=64, validation_data=(x_val, y_val))"
   ]
  },
  {
   "cell_type": "markdown",
   "id": "4bc9e60a",
   "metadata": {},
   "source": [
    "## Données de test"
   ]
  },
  {
   "cell_type": "code",
   "execution_count": 43,
   "id": "e09c8f4e",
   "metadata": {},
   "outputs": [
    {
     "name": "stdout",
     "output_type": "stream",
     "text": [
      " 303/4431 [=>............................] - ETA: 2s - loss: 0.0226 - acc: 0.4958"
     ]
    },
    {
     "name": "stdout",
     "output_type": "stream",
     "text": [
      "4431/4431 [==============================] - 2s 496us/step - loss: 0.0228 - acc: 0.4947\n"
     ]
    }
   ],
   "source": [
    "loss, acc = model.evaluate(x_test, y_test)"
   ]
  },
  {
   "cell_type": "code",
   "execution_count": 44,
   "id": "40539e60",
   "metadata": {},
   "outputs": [
    {
     "name": "stdout",
     "output_type": "stream",
     "text": [
      "La perte est de 0.02282661385834217 et l'accuracy 0.49465322494506836.\n"
     ]
    }
   ],
   "source": [
    "print(f\"La perte est de {loss} et l'accuracy {acc}.\")"
   ]
  },
  {
   "cell_type": "markdown",
   "id": "f7b836c4",
   "metadata": {},
   "source": [
    "Nous pouvons remarquer que le modèle est capable de prédire la moitié des traductions, ce qui reste relativement peu. On peut donc se poser la question s'il était pertinent d'utiliser Word2Vec pour faire de la traduction ou s'il y a plutôt un problème dans la manière d'avoir prétraité et utilisé les données."
   ]
  },
  {
   "cell_type": "markdown",
   "id": "0852f4fd",
   "metadata": {},
   "source": [
    "## Visualisation"
   ]
  },
  {
   "cell_type": "code",
   "execution_count": 45,
   "id": "ee7e9e1f",
   "metadata": {},
   "outputs": [
    {
     "data": {
      "text/plain": [
       "Text(0, 0.5, 'Loss & Acc')"
      ]
     },
     "execution_count": 45,
     "metadata": {},
     "output_type": "execute_result"
    },
    {
     "data": {
      "image/png": "[encoded data removed]",
      "text/plain": [
       "<Figure size 640x480 with 1 Axes>"
      ]
     },
     "metadata": {},
     "output_type": "display_data"
    }
   ],
   "source": [
    "import matplotlib.pyplot as plt\n",
    "\n",
    "epochs = len(history.history['loss'])\n",
    "plt.plot(range(epochs), history.history['loss'], label=\"loss_train\", marker='x')\n",
    "plt.plot(range(epochs), history.history['val_loss'], label=\"loss_val\", marker='o')\n",
    "plt.plot(range(epochs), history.history['acc'], label=\"acc_train\", marker='x')\n",
    "plt.plot(range(epochs), history.history['val_acc'], label=\"acc_val\", marker='o')\n",
    "plt.legend()\n",
    "plt.xlabel('Epochs')\n",
    "plt.ylabel('Loss & Acc')"
   ]
  },
  {
   "cell_type": "markdown",
   "id": "9d057d6f",
   "metadata": {},
   "source": [
    "## Test du traducteur"
   ]
  },
  {
   "cell_type": "code",
   "execution_count": 58,
   "id": "5d1720ef",
   "metadata": {},
   "outputs": [
    {
     "name": "stdout",
     "output_type": "stream",
     "text": [
      "1/1 [==============================] - 0s 8ms/step\n",
      "something\n"
     ]
    }
   ],
   "source": [
    "word = \"quelque chose\"\n",
    "\n",
    "clean_word = clean_tweet(word, lst_stopwords=french_stop_words)\n",
    "vec_word = my_doc_2_vec(clean_word.split(), fr_trained)\n",
    "\n",
    "vec_translated_word = model.predict(np.array([vec_word]))\n",
    "translated_word = en_trained.most_similar([vec_translated_word[0]], topn=1)[0][0]\n",
    "print(translated_word)\n"
   ]
  },
  {
   "cell_type": "markdown",
   "id": "4ccfc233",
   "metadata": {},
   "source": [
    "En faisant plusieurs tests, nous remarquons que nous sommes capable de traduire certains mots simples comme \"chien\", \"chat\" ou \"quelquechose\", mais nous avons beaucoup de problèmes à traduire la majorité des mots."
   ]
  }
 ],
 "metadata": {
  "kernelspec": {
   "display_name": "venv",
   "language": "python",
   "name": "python3"
  },
  "language_info": {
   "codemirror_mode": {
    "name": "ipython",
    "version": 3
   },
   "file_extension": ".py",
   "mimetype": "text/x-python",
   "name": "python",
   "nbconvert_exporter": "python",
   "pygments_lexer": "ipython3",
   "version": "3.11.8"
  }
 },
 "nbformat": 4,
 "nbformat_minor": 5
}
